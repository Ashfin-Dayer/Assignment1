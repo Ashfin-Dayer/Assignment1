{
 "cells": [
  {
   "cell_type": "markdown",
   "id": "fb3e8b3a-6c99-4f73-a3d9-63bab846a6b5",
   "metadata": {},
   "source": [
    "Q1. Create an empty list."
   ]
  },
  {
   "cell_type": "code",
   "execution_count": 1,
   "id": "e5290d69-0af2-4a5f-880e-3deb00215744",
   "metadata": {},
   "outputs": [],
   "source": [
    "l=[]"
   ]
  },
  {
   "cell_type": "code",
   "execution_count": 2,
   "id": "882de182-80e3-47fd-8622-d1fed7d14dfe",
   "metadata": {},
   "outputs": [
    {
     "data": {
      "text/plain": [
       "[]"
      ]
     },
     "execution_count": 2,
     "metadata": {},
     "output_type": "execute_result"
    }
   ],
   "source": [
    "l"
   ]
  },
  {
   "cell_type": "markdown",
   "id": "e26e4137-4fea-4f52-8a06-1989bcf7d269",
   "metadata": {},
   "source": [
    "Q2. Create a list and add an element to the end of this list."
   ]
  },
  {
   "cell_type": "code",
   "execution_count": 10,
   "id": "3c60da65-7b6d-49ae-ba46-505d65179763",
   "metadata": {},
   "outputs": [
    {
     "data": {
      "text/plain": [
       "[2, 4, 3, 67, True]"
      ]
     },
     "execution_count": 10,
     "metadata": {},
     "output_type": "execute_result"
    }
   ],
   "source": [
    "l2=[2,4,3,67,True]\n",
    "l2"
   ]
  },
  {
   "cell_type": "code",
   "execution_count": 13,
   "id": "f0fe0152-06f8-4757-94c2-115c382ce908",
   "metadata": {},
   "outputs": [],
   "source": [
    "l2.append(45)"
   ]
  },
  {
   "cell_type": "code",
   "execution_count": 14,
   "id": "1712b09c-8091-4793-a99d-29b277ccadb3",
   "metadata": {},
   "outputs": [
    {
     "data": {
      "text/plain": [
       "[2, 4, 3, 67, True, 45, 45]"
      ]
     },
     "execution_count": 14,
     "metadata": {},
     "output_type": "execute_result"
    }
   ],
   "source": [
    "l2"
   ]
  },
  {
   "cell_type": "markdown",
   "id": "a714239a-537e-4cf2-a469-5a523c861afa",
   "metadata": {},
   "source": [
    "Q3. For the above created list print the last element."
   ]
  },
  {
   "cell_type": "code",
   "execution_count": 15,
   "id": "98e41967-26c3-44e6-844a-022498b3ca76",
   "metadata": {},
   "outputs": [
    {
     "data": {
      "text/plain": [
       "45"
      ]
     },
     "execution_count": 15,
     "metadata": {},
     "output_type": "execute_result"
    }
   ],
   "source": [
    "l2[6]"
   ]
  },
  {
   "cell_type": "markdown",
   "id": "f12a563a-f3b7-4fa9-ace3-4510550c4720",
   "metadata": {},
   "source": [
    "Q4. Reverse the above created list."
   ]
  },
  {
   "cell_type": "code",
   "execution_count": 23,
   "id": "ad24333b-666a-41f7-a526-59eb72550fd5",
   "metadata": {},
   "outputs": [
    {
     "data": {
      "text/plain": [
       "[67, 45, 45, 4, 3, 2, True]"
      ]
     },
     "execution_count": 23,
     "metadata": {},
     "output_type": "execute_result"
    }
   ],
   "source": [
    "l2.reverse()\n",
    "l2"
   ]
  },
  {
   "cell_type": "markdown",
   "id": "20950fe2-b524-4c9e-b4b4-b7c5bc53d803",
   "metadata": {},
   "source": [
    "Q5. Sort the above created list."
   ]
  },
  {
   "cell_type": "code",
   "execution_count": 24,
   "id": "bb2988ed-2395-4629-a0a1-87e8e7d30240",
   "metadata": {},
   "outputs": [
    {
     "data": {
      "text/plain": [
       "[True, 2, 3, 4, 45, 45, 67]"
      ]
     },
     "execution_count": 24,
     "metadata": {},
     "output_type": "execute_result"
    }
   ],
   "source": [
    "l2.sort()\n",
    "l2"
   ]
  },
  {
   "cell_type": "markdown",
   "id": "fb7afc81-9a18-4729-a877-927b6516c8da",
   "metadata": {},
   "source": [
    "Q6. Create a list of your top three favorite movies, then print the second movie title."
   ]
  },
  {
   "cell_type": "code",
   "execution_count": 29,
   "id": "7fb85685-5924-4096-9f39-ef8a56148532",
   "metadata": {},
   "outputs": [
    {
     "data": {
      "text/plain": [
       "'Revenge'"
      ]
     },
     "execution_count": 29,
     "metadata": {},
     "output_type": "execute_result"
    }
   ],
   "source": [
    "l3=[\"Golmaal\",\"Revenge\",\"Chupa\"]\n",
    "l3[1]"
   ]
  },
  {
   "cell_type": "markdown",
   "id": "90c4c9ea-2e94-4474-bb70-d311ebfed656",
   "metadata": {},
   "source": [
    "Q7. Create a list of your favorite animals, then add a new animal to the list and print the updated list."
   ]
  },
  {
   "cell_type": "code",
   "execution_count": 30,
   "id": "0af7103e-faeb-473a-92db-83329ef28355",
   "metadata": {},
   "outputs": [],
   "source": [
    "l4=[\"Cat\",\"Dog\",\"Camel\"]\n",
    "l4.append(\"Horse\")"
   ]
  },
  {
   "cell_type": "code",
   "execution_count": 31,
   "id": "97366a16-f127-4477-9238-3e67c10c9f7d",
   "metadata": {},
   "outputs": [
    {
     "data": {
      "text/plain": [
       "['Cat', 'Dog', 'Camel', 'Horse']"
      ]
     },
     "execution_count": 31,
     "metadata": {},
     "output_type": "execute_result"
    }
   ],
   "source": [
    "l4"
   ]
  },
  {
   "cell_type": "markdown",
   "id": "0529e17f-a99c-43a8-9c01-261335386c6f",
   "metadata": {},
   "source": [
    "Q8. Create a list of your favorite cities, then use the index() method to find the position of a specific city\n",
    "on the list and print it."
   ]
  },
  {
   "cell_type": "code",
   "execution_count": 33,
   "id": "66c5e20e-f132-45b9-81c4-9e039d64d9f0",
   "metadata": {},
   "outputs": [
    {
     "data": {
      "text/plain": [
       "['Bhilware', 'Ajmar', 'Jaipur']"
      ]
     },
     "execution_count": 33,
     "metadata": {},
     "output_type": "execute_result"
    }
   ],
   "source": [
    "city=[\"Bhilware\",\"Ajmar\",\"Jaipur\"]\n",
    "city"
   ]
  },
  {
   "cell_type": "code",
   "execution_count": 36,
   "id": "a94016a1-5203-4618-ae4a-46633927aade",
   "metadata": {},
   "outputs": [
    {
     "data": {
      "text/plain": [
       "2"
      ]
     },
     "execution_count": 36,
     "metadata": {},
     "output_type": "execute_result"
    }
   ],
   "source": [
    "F_c=\"Jaipur\"\n",
    "city.index(F_c)"
   ]
  },
  {
   "cell_type": "code",
   "execution_count": null,
   "id": "43888d51-5ec2-4bf0-bfbe-33827d227169",
   "metadata": {},
   "outputs": [],
   "source": []
  }
 ],
 "metadata": {
  "kernelspec": {
   "display_name": "Python 3 (ipykernel)",
   "language": "python",
   "name": "python3"
  },
  "language_info": {
   "codemirror_mode": {
    "name": "ipython",
    "version": 3
   },
   "file_extension": ".py",
   "mimetype": "text/x-python",
   "name": "python",
   "nbconvert_exporter": "python",
   "pygments_lexer": "ipython3",
   "version": "3.10.8"
  }
 },
 "nbformat": 4,
 "nbformat_minor": 5
}
