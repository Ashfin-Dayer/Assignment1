{
 "cells": [
  {
   "cell_type": "markdown",
   "id": "df2c47b3-3305-4564-a92d-21e7c76c1500",
   "metadata": {},
   "source": [
    "Q1.How can we store a s1ngle quote (‘) as a str1ng 1n a var1able?\n"
   ]
  },
  {
   "cell_type": "code",
   "execution_count": 1,
   "id": "1bcc4dc4-38b1-45ec-9dc5-89e11ede04d2",
   "metadata": {},
   "outputs": [],
   "source": [
    "my_string='hello'"
   ]
  },
  {
   "cell_type": "code",
   "execution_count": 2,
   "id": "2041cb3e-10ab-4331-a02f-e7a0ca9b1a9e",
   "metadata": {},
   "outputs": [
    {
     "data": {
      "text/plain": [
       "'hello'"
      ]
     },
     "execution_count": 2,
     "metadata": {},
     "output_type": "execute_result"
    }
   ],
   "source": [
    "my_string"
   ]
  },
  {
   "cell_type": "markdown",
   "id": "510198b2-8ea7-46df-9678-19fb3e26e2f3",
   "metadata": {},
   "source": [
    "Q2. Refer the below var1able:\n",
    "x = 'a'\n",
    "Here, 1s x a character type or str1ng type var1able? Support your answer w1th an explanat1on."
   ]
  },
  {
   "cell_type": "markdown",
   "id": "8c74fc75-ce90-4184-8367-85eb38307b41",
   "metadata": {},
   "source": [
    "In Python, both single characters and strings are represented by the str data type. Therefore, the variable x could be either a character or a string.\n",
    "\n",
    "However, to determine whether x is a single character or a string, we can check its length using the built-in len() function. If the length of x is 1, then x is a single character, otherwise it is a string"
   ]
  },
  {
   "cell_type": "code",
   "execution_count": 1,
   "id": "967524df-f207-40de-a6d9-0c51bdeb132d",
   "metadata": {},
   "outputs": [
    {
     "data": {
      "text/plain": [
       "1"
      ]
     },
     "execution_count": 1,
     "metadata": {},
     "output_type": "execute_result"
    }
   ],
   "source": [
    "x = 'a'\n",
    "len(x) "
   ]
  },
  {
   "cell_type": "code",
   "execution_count": 2,
   "id": "60354fd9-4d61-422d-843e-661f69e0be4a",
   "metadata": {},
   "outputs": [
    {
     "data": {
      "text/plain": [
       "str"
      ]
     },
     "execution_count": 2,
     "metadata": {},
     "output_type": "execute_result"
    }
   ],
   "source": [
    "x = 'a'\n",
    "type(x)"
   ]
  },
  {
   "cell_type": "markdown",
   "id": "a291ac1e-f1e2-423e-b37d-9378fe404cdb",
   "metadata": {},
   "source": [
    "Q3.Apply the follow1ng funct1ons on th1s var1able: ‘Welcome to Python foundation course'   \n",
    "a) find()\n",
    "b)count()\n",
    "c)len()\n",
    "d)concatenation"
   ]
  },
  {
   "cell_type": "code",
   "execution_count": 4,
   "id": "7a8ef43e-da23-4068-92c5-d307db56194a",
   "metadata": {},
   "outputs": [
    {
     "data": {
      "text/plain": [
       "3"
      ]
     },
     "execution_count": 4,
     "metadata": {},
     "output_type": "execute_result"
    }
   ],
   "source": [
    "str=\"Welcome to Python foundation course\"\n",
    "str.find('c')"
   ]
  },
  {
   "cell_type": "code",
   "execution_count": 5,
   "id": "021f65cf-e893-4e31-9454-cd83a258a88f",
   "metadata": {},
   "outputs": [
    {
     "data": {
      "text/plain": [
       "2"
      ]
     },
     "execution_count": 5,
     "metadata": {},
     "output_type": "execute_result"
    }
   ],
   "source": [
    "str.count('u')"
   ]
  },
  {
   "cell_type": "code",
   "execution_count": 6,
   "id": "6234803d-bbcb-4510-9b04-e7bec9534937",
   "metadata": {},
   "outputs": [
    {
     "data": {
      "text/plain": [
       "35"
      ]
     },
     "execution_count": 6,
     "metadata": {},
     "output_type": "execute_result"
    }
   ],
   "source": [
    "len(str)"
   ]
  },
  {
   "cell_type": "code",
   "execution_count": 7,
   "id": "3686f0b8-8774-41cd-9c02-798d866035f5",
   "metadata": {},
   "outputs": [
    {
     "data": {
      "text/plain": [
       "\"Welcome to Python foundation courseLet's start python\""
      ]
     },
     "execution_count": 7,
     "metadata": {},
     "output_type": "execute_result"
    }
   ],
   "source": [
    "str1=\"Let's start python\"\n",
    "str+str1"
   ]
  },
  {
   "cell_type": "markdown",
   "id": "126b4bad-3132-4e4d-8eeb-e0310c8004de",
   "metadata": {},
   "source": [
    "Q4. For the variable: wor = ‘PanaJi@12256'\n",
    "Calculate the following:\n",
    "(a) Total number of alphabets in lowercase\n",
    "(b) Total number of alphabets in uppercase\n",
    "(c) Total number of numer1cal in str1ng"
   ]
  },
  {
   "cell_type": "code",
   "execution_count": 8,
   "id": "4554cc31-89c3-4099-8685-9748ce7797e5",
   "metadata": {},
   "outputs": [
    {
     "data": {
      "text/plain": [
       "'panaji@12256'"
      ]
     },
     "execution_count": 8,
     "metadata": {},
     "output_type": "execute_result"
    }
   ],
   "source": [
    "wor=\"PanaJi@12256\"\n",
    "wor.lower()"
   ]
  },
  {
   "cell_type": "code",
   "execution_count": 9,
   "id": "dd95b1d7-a893-4ce5-b7d9-cbb1f998b873",
   "metadata": {},
   "outputs": [
    {
     "data": {
      "text/plain": [
       "'PANAJI@12256'"
      ]
     },
     "execution_count": 9,
     "metadata": {},
     "output_type": "execute_result"
    }
   ],
   "source": [
    "wor.upper()"
   ]
  },
  {
   "cell_type": "code",
   "execution_count": 10,
   "id": "46e36cac-a280-416f-af95-6ea8c68fffb5",
   "metadata": {},
   "outputs": [],
   "source": [
    "wor=\"PanaJi@12256\"\n",
    "count = 0\n",
    "for char in wor:\n",
    "    if char.isdigit():\n",
    "        count += 1"
   ]
  },
  {
   "cell_type": "code",
   "execution_count": 11,
   "id": "95fb43ba-1b26-4db4-b14c-291e65f5d315",
   "metadata": {},
   "outputs": [
    {
     "data": {
      "text/plain": [
       "5"
      ]
     },
     "execution_count": 11,
     "metadata": {},
     "output_type": "execute_result"
    }
   ],
   "source": [
    "count"
   ]
  },
  {
   "cell_type": "markdown",
   "id": "e1e9b57f-9ff5-4739-b942-5ec5c5e31848",
   "metadata": {},
   "source": [
    "Q5.Write a code to store a numerical value inside a variable then convert it into string"
   ]
  },
  {
   "cell_type": "code",
   "execution_count": 14,
   "id": "2325e604-43b8-4ae0-8a74-4045e00cba75",
   "metadata": {},
   "outputs": [
    {
     "data": {
      "text/plain": [
       "int"
      ]
     },
     "execution_count": 14,
     "metadata": {},
     "output_type": "execute_result"
    }
   ],
   "source": [
    "num=123\n",
    "type(num)"
   ]
  },
  {
   "cell_type": "code",
   "execution_count": 16,
   "id": "419fa004-f920-440e-91fa-dc5d61a27956",
   "metadata": {},
   "outputs": [
    {
     "ename": "TypeError",
     "evalue": "'str' object is not callable",
     "output_type": "error",
     "traceback": [
      "\u001b[0;31m---------------------------------------------------------------------------\u001b[0m",
      "\u001b[0;31mTypeError\u001b[0m                                 Traceback (most recent call last)",
      "Cell \u001b[0;32mIn[16], line 2\u001b[0m\n\u001b[1;32m      1\u001b[0m num \u001b[38;5;241m=\u001b[39m \u001b[38;5;241m12345\u001b[39m   \n\u001b[0;32m----> 2\u001b[0m str_num \u001b[38;5;241m=\u001b[39m \u001b[38;5;28;43mstr\u001b[39;49m\u001b[43m(\u001b[49m\u001b[43mnum\u001b[49m\u001b[43m)\u001b[49m  \n\u001b[1;32m      3\u001b[0m \u001b[38;5;28mprint\u001b[39m(\u001b[38;5;28mtype\u001b[39m(str_num))\n",
      "\u001b[0;31mTypeError\u001b[0m: 'str' object is not callable"
     ]
    }
   ],
   "source": [
    "num = 12345   \n",
    "str_num = str(num)  \n",
    "type(str_num)"
   ]
  },
  {
   "cell_type": "code",
   "execution_count": null,
   "id": "904c43b0-1657-46a5-a6ea-6eb3119ad715",
   "metadata": {},
   "outputs": [],
   "source": []
  }
 ],
 "metadata": {
  "kernelspec": {
   "display_name": "Python 3 (ipykernel)",
   "language": "python",
   "name": "python3"
  },
  "language_info": {
   "codemirror_mode": {
    "name": "ipython",
    "version": 3
   },
   "file_extension": ".py",
   "mimetype": "text/x-python",
   "name": "python",
   "nbconvert_exporter": "python",
   "pygments_lexer": "ipython3",
   "version": "3.10.8"
  }
 },
 "nbformat": 4,
 "nbformat_minor": 5
}
