{
 "cells": [
  {
   "cell_type": "markdown",
   "id": "15786d84-e168-440c-b0ba-0ec201d879bf",
   "metadata": {},
   "source": [
    "Q1. Write all the conventions being followed while declaring a variable.\n",
    "Variable names must begin with a letter, underscore, non-number character. Each language has its own conventions.\n",
    "keyword Can not be used as a veriable name.Once the variable has a defined data type, only that type of data can be stored in it."
   ]
  },
  {
   "cell_type": "markdown",
   "id": "a6b4ab30-3753-4df4-aa63-1ea8f2678069",
   "metadata": {},
   "source": [
    "q2.What will happen if we declare a restricted keyword as a variable?\n",
    "If we declare a restricted keyword as a verable it will give compilare error."
   ]
  },
  {
   "cell_type": "code",
   "execution_count": null,
   "id": "a335cf7f-4dfa-438c-be03-a489e50ddd41",
   "metadata": {},
   "outputs": [],
   "source": [
    "q3.Can we actually declare a string as a variable name?\n",
    "It is possible to use a string as a variable name by using the globals() or locals() built-in functions to create \n",
    "a new variable with the desired"
   ]
  },
  {
   "cell_type": "markdown",
   "id": "bdfbc8af-7250-4264-8b8c-883b4a0eb74c",
   "metadata": {},
   "source": [
    "Q4. Is it possible for us to declare “_” as a variable? If so, then write an example of it.\n",
    "Yes, it is possible to declare \"\" as a variable in many programming languages. In some languages, such as Python,\n",
    "\"\" is commonly used as a placeholder variable for values that are not used or returned\n",
    "example:-\n",
    "# Declaring_variable_named \"_\"\n",
    "_ = 30\n",
    "\n",
    "# Using the variable\n",
    "print(_)"
   ]
  },
  {
   "cell_type": "markdown",
   "id": "4a9aed53-7c45-4b25-a333-6e89e313b2de",
   "metadata": {},
   "source": [
    "q5.Using an example, explain how the variables in python are dynamic in nature.\n",
    "Variables in Python are dynamic, which means that their type can change while a program is running.\n",
    "example:-\n",
    "x=6\n",
    "print(type(x))\n",
    "output:- int\n",
    "x=\"Hello\"\n",
    "print(type(x))\n",
    "output:-str"
   ]
  }
 ],
 "metadata": {
  "kernelspec": {
   "display_name": "Python 3 (ipykernel)",
   "language": "python",
   "name": "python3"
  },
  "language_info": {
   "codemirror_mode": {
    "name": "ipython",
    "version": 3
   },
   "file_extension": ".py",
   "mimetype": "text/x-python",
   "name": "python",
   "nbconvert_exporter": "python",
   "pygments_lexer": "ipython3",
   "version": "3.10.8"
  }
 },
 "nbformat": 4,
 "nbformat_minor": 5
}
