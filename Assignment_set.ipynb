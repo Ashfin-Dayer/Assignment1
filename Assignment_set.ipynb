{
 "cells": [
  {
   "cell_type": "markdown",
   "id": "b13826a9-9faa-4371-951c-bb22c91d5a24",
   "metadata": {},
   "source": [
    "Q1. What is a set in Python?\n",
    "In Python, a set is an unordered collection of unique elements. This means that a set can contain any hashable object, but no element can appear more than once in a set."
   ]
  },
  {
   "cell_type": "markdown",
   "id": "472e5e57-e3c8-46ae-9144-a26b6cfe2ac5",
   "metadata": {},
   "source": [
    "Q2.How do you create a set in Python?"
   ]
  },
  {
   "cell_type": "code",
   "execution_count": 2,
   "id": "a67feb14-ffd9-4dd5-ae0f-5f427cf49326",
   "metadata": {},
   "outputs": [
    {
     "data": {
      "text/plain": [
       "set"
      ]
     },
     "execution_count": 2,
     "metadata": {},
     "output_type": "execute_result"
    }
   ],
   "source": [
    "s={22,22,4,3,4,3,5,5}\n",
    "type(s)"
   ]
  },
  {
   "cell_type": "markdown",
   "id": "30fa571a-570b-4ee8-b181-16b6e7d7b9d8",
   "metadata": {},
   "source": [
    "Q3. How do you add elements to a set in Python?"
   ]
  },
  {
   "cell_type": "code",
   "execution_count": 3,
   "id": "2355161c-8917-43ce-8e0b-487cb0da7f0f",
   "metadata": {},
   "outputs": [
    {
     "data": {
      "text/plain": [
       "{22, 3, 4, 5, 'ashe'}"
      ]
     },
     "execution_count": 3,
     "metadata": {},
     "output_type": "execute_result"
    }
   ],
   "source": [
    "s.add(\"ashe\")\n",
    "s"
   ]
  },
  {
   "cell_type": "code",
   "execution_count": null,
   "id": "baf227f4-a2cf-4c04-a80f-404943b24602",
   "metadata": {},
   "outputs": [],
   "source": []
  }
 ],
 "metadata": {
  "kernelspec": {
   "display_name": "Python 3 (ipykernel)",
   "language": "python",
   "name": "python3"
  },
  "language_info": {
   "codemirror_mode": {
    "name": "ipython",
    "version": 3
   },
   "file_extension": ".py",
   "mimetype": "text/x-python",
   "name": "python",
   "nbconvert_exporter": "python",
   "pygments_lexer": "ipython3",
   "version": "3.10.8"
  }
 },
 "nbformat": 4,
 "nbformat_minor": 5
}
