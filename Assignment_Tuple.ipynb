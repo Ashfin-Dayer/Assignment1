{
 "cells": [
  {
   "cell_type": "markdown",
   "id": "b497a69e-878d-4b5f-9e04-62ff18e9ddfb",
   "metadata": {},
   "source": [
    "Q1. What is a tuple in Python?\n",
    "In Python, a tuple is an ordered, immutable collection of elements, which can be of different data types. Tuples are similar to lists, but the main difference is that tuples are immutable, which means that once a tuple is created, you cannot modify its elements. Tuples are defined using parentheses () and can contain any number of elements separated by commas."
   ]
  },
  {
   "cell_type": "markdown",
   "id": "770dda21-e553-4837-9b4b-5fcc287d5ff8",
   "metadata": {},
   "source": [
    "Q2. How do you create a tuple in Python?"
   ]
  },
  {
   "cell_type": "code",
   "execution_count": 2,
   "id": "dfe34bed-4f50-43ef-a3a7-b689fd115266",
   "metadata": {},
   "outputs": [],
   "source": [
    "my_tuple = (1, 2, \"three\", 4.0, True)"
   ]
  },
  {
   "cell_type": "code",
   "execution_count": 3,
   "id": "7e60206c-f8c9-49d2-8772-680509306641",
   "metadata": {},
   "outputs": [
    {
     "data": {
      "text/plain": [
       "(1, 2, 'three', 4.0, True)"
      ]
     },
     "execution_count": 3,
     "metadata": {},
     "output_type": "execute_result"
    }
   ],
   "source": [
    "my_tuple"
   ]
  },
  {
   "cell_type": "markdown",
   "id": "9609e9dd-3428-4f66-a2e1-3799afe25e03",
   "metadata": {},
   "source": [
    "Q3. What is the difference between a tuple and a list in Python?\n",
    "Mutability: Tuples are immutable, which means that once a tuple is created, you cannot modify its elements. Lists are mutable, which means that you can modify, add, or remove elements from a list.\n",
    "\n",
    "Syntax: Tuples are defined using parentheses () and elements are separated by commas, while lists are defined using square brackets [] and elements are separated by commas.\n",
    "example:-\n",
    "my_tuple = (1, 2, 3, 4, 5)\n",
    "my_list = [1, 2, 3, 4, 5]"
   ]
  },
  {
   "cell_type": "markdown",
   "id": "983aae8b-5f9e-454f-a34e-7285ac6bdd85",
   "metadata": {},
   "source": [
    "Q4. Can a tuple be changed in Python?\n",
    "No, a tuple is immutable in Python, which means that once a tuple is created, its elements cannot be modified or changed. This is different from lists, which are mutable and can be changed after creation."
   ]
  },
  {
   "cell_type": "markdown",
   "id": "a3cec1e7-4db0-4616-a838-da3650f2d947",
   "metadata": {},
   "source": [
    "Q5. How do you access elements in a tuple?"
   ]
  },
  {
   "cell_type": "code",
   "execution_count": 4,
   "id": "ccd794df-af96-4c34-b410-455f4ea4ed21",
   "metadata": {},
   "outputs": [
    {
     "data": {
      "text/plain": [
       "'banana'"
      ]
     },
     "execution_count": 4,
     "metadata": {},
     "output_type": "execute_result"
    }
   ],
   "source": [
    "tpl=(\"apple\",\"banana\",\"mengo\")\n",
    "tpl[1]"
   ]
  },
  {
   "cell_type": "markdown",
   "id": "63af6776-ada5-49d9-b943-de35fa79b509",
   "metadata": {},
   "source": [
    "Q6. How do you unpack a tuple in Python?\n",
    "In Python, you can unpack a tuple into multiple variables using the unpacking operator *. The unpacking operator allows you to assign the individual elements of a tuple to separate variables in a single line of code."
   ]
  },
  {
   "cell_type": "code",
   "execution_count": 5,
   "id": "42f3fdc4-dc8d-4bf2-bc48-291e470c706f",
   "metadata": {},
   "outputs": [
    {
     "data": {
      "text/plain": [
       "('apple', 'banana', 'mengo')"
      ]
     },
     "execution_count": 5,
     "metadata": {},
     "output_type": "execute_result"
    }
   ],
   "source": [
    "tpl"
   ]
  },
  {
   "cell_type": "code",
   "execution_count": null,
   "id": "f6342624-2734-4ec6-8288-b07a29b4ec40",
   "metadata": {},
   "outputs": [],
   "source": [
    "friut1,friut2,friut3=tpl"
   ]
  },
  {
   "cell_type": "code",
   "execution_count": 7,
   "id": "21c9f690-ad76-4a84-9f9e-7950ec95874e",
   "metadata": {},
   "outputs": [
    {
     "ename": "NameError",
     "evalue": "name 'friut1' is not defined",
     "output_type": "error",
     "traceback": [
      "\u001b[0;31m---------------------------------------------------------------------------\u001b[0m",
      "\u001b[0;31mNameError\u001b[0m                                 Traceback (most recent call last)",
      "Cell \u001b[0;32mIn[7], line 1\u001b[0m\n\u001b[0;32m----> 1\u001b[0m \u001b[43mfriut1\u001b[49m\n",
      "\u001b[0;31mNameError\u001b[0m: name 'friut1' is not defined"
     ]
    }
   ],
   "source": [
    "friut1"
   ]
  },
  {
   "cell_type": "code",
   "execution_count": null,
   "id": "74300d62-41b3-4676-8378-79f68ed58bdd",
   "metadata": {},
   "outputs": [],
   "source": []
  }
 ],
 "metadata": {
  "kernelspec": {
   "display_name": "Python 3 (ipykernel)",
   "language": "python",
   "name": "python3"
  },
  "language_info": {
   "codemirror_mode": {
    "name": "ipython",
    "version": 3
   },
   "file_extension": ".py",
   "mimetype": "text/x-python",
   "name": "python",
   "nbconvert_exporter": "python",
   "pygments_lexer": "ipython3",
   "version": "3.10.8"
  }
 },
 "nbformat": 4,
 "nbformat_minor": 5
}
