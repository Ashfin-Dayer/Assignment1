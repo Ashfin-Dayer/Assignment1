{
 "cells": [
  {
   "cell_type": "markdown",
   "id": "21e05a4c-1d52-4ca8-abd6-f0860bbfb672",
   "metadata": {},
   "source": [
    "Q1. What is the syntax for adding an element to a list in Python?\n",
    "To add an element to a list in Python, you can use the append() method or the insert() method. The syntax for using these methods is:\n",
    "\n",
    "append(): list_name.append(element)\n",
    "insert(): list_name.insert(index, element)"
   ]
  },
  {
   "cell_type": "markdown",
   "id": "1cb476b5-9cdd-49f6-aa30-0c4abc8df087",
   "metadata": {},
   "source": [
    "Q2. What is the difference between remove() and pop() functions in Python?\n",
    "remove() method: This method removes the first occurrence of the specified element from the list. If the element is not present in the list, it raises a ValueError.\n",
    "Syntax: list_name.remove(element)\n",
    "pop() method: This method removes and returns the element at the specified index from the list. If no index is specified, it removes and returns the last element from the list.\n",
    "Syntax: list_name.pop(index)"
   ]
  },
  {
   "cell_type": "markdown",
   "id": "9028d5c5-bacc-4b1c-b1da-7d12fed08d7f",
   "metadata": {},
   "source": [
    "Q3. Write a Python code to sort a list in descending order."
   ]
  },
  {
   "cell_type": "code",
   "execution_count": 1,
   "id": "876c11f8-fa43-4e01-b1c1-8ffa979eed22",
   "metadata": {},
   "outputs": [],
   "source": [
    "l=[3,65,54,76,23]\n",
    "l.sort(reverse=True)"
   ]
  },
  {
   "cell_type": "code",
   "execution_count": 2,
   "id": "d29b2164-ab43-4942-9c99-25ec8f6436e5",
   "metadata": {},
   "outputs": [
    {
     "data": {
      "text/plain": [
       "[76, 65, 54, 23, 3]"
      ]
     },
     "execution_count": 2,
     "metadata": {},
     "output_type": "execute_result"
    }
   ],
   "source": [
    "l"
   ]
  },
  {
   "cell_type": "markdown",
   "id": "1d0b4b6c-09c5-4867-be30-1a7d1e39dfa2",
   "metadata": {},
   "source": [
    "Q4. Write a Python code to count the number of occurrences of an element in a list."
   ]
  },
  {
   "cell_type": "code",
   "execution_count": 4,
   "id": "de404bf4-6033-48c7-9248-43b0f02633f3",
   "metadata": {},
   "outputs": [
    {
     "data": {
      "text/plain": [
       "1"
      ]
     },
     "execution_count": 4,
     "metadata": {},
     "output_type": "execute_result"
    }
   ],
   "source": [
    "l.count(3)"
   ]
  },
  {
   "cell_type": "markdown",
   "id": "82db7562-16be-4738-a82b-951ac8319f42",
   "metadata": {},
   "source": [
    "Q5. Write a Python code to reverse a list."
   ]
  },
  {
   "cell_type": "code",
   "execution_count": 5,
   "id": "fe2c7123-2dd8-41c9-b46d-2608799508b1",
   "metadata": {},
   "outputs": [],
   "source": [
    "l.reverse()"
   ]
  },
  {
   "cell_type": "code",
   "execution_count": 6,
   "id": "af9fa247-ee98-44df-97ef-bdcbd122c152",
   "metadata": {},
   "outputs": [
    {
     "data": {
      "text/plain": [
       "[3, 23, 54, 65, 76]"
      ]
     },
     "execution_count": 6,
     "metadata": {},
     "output_type": "execute_result"
    }
   ],
   "source": [
    "l"
   ]
  },
  {
   "cell_type": "code",
   "execution_count": null,
   "id": "5776aa11-a8fa-4f5d-b393-449bca587ea5",
   "metadata": {},
   "outputs": [],
   "source": []
  }
 ],
 "metadata": {
  "kernelspec": {
   "display_name": "Python 3 (ipykernel)",
   "language": "python",
   "name": "python3"
  },
  "language_info": {
   "codemirror_mode": {
    "name": "ipython",
    "version": 3
   },
   "file_extension": ".py",
   "mimetype": "text/x-python",
   "name": "python",
   "nbconvert_exporter": "python",
   "pygments_lexer": "ipython3",
   "version": "3.10.8"
  }
 },
 "nbformat": 4,
 "nbformat_minor": 5
}
